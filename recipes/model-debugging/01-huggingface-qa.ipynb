{
 "cells": [
  {
   "cell_type": "markdown",
   "id": "a50648b4",
   "metadata": {},
   "source": [
    "# Assess predictions on Stanford Question Answering Dataset (SQuAD) with a huggingface question answering model"
   ]
  },
  {
   "cell_type": "markdown",
   "id": "72398086",
   "metadata": {},
   "source": [
    "This notebook demonstrates the use of the `responsibleai` API to assess a huggingface question answering model on the SQuAD dataset (see https://huggingface.co/datasets/squad for more information about the dataset). It walks through the API calls necessary to create a widget with model analysis insights, then guides a visual analysis of the model."
   ]
  },
  {
   "cell_type": "markdown",
   "id": "739385c6",
   "metadata": {},
   "source": [
    "* [Launch Responsible AI Toolbox](#Launch-Responsible-AI-Toolbox)\n",
    "    * [Load Model and Data](#Load-Model-and-Data)\n",
    "    * [Create Model and Data Insights](#Create-Model-and-Data-Insights)"
   ]
  },
  {
   "cell_type": "markdown",
   "id": "1343e9b0",
   "metadata": {},
   "source": [
    "## Launch Responsible AI Toolbox"
   ]
  },
  {
   "cell_type": "markdown",
   "id": "ea121102",
   "metadata": {},
   "source": [
    "The following section examines the code necessary to create datasets and a model. It then generates insights using the `responsibleai` API that can be visually analyzed."
   ]
  },
  {
   "cell_type": "markdown",
   "id": "6174bcad",
   "metadata": {},
   "source": [
    "### Prepare\n",
    "\n",
    "To run this notebook, we need to install the following packages:\n",
    "\n",
    "```\n",
    "raiutils\n",
    "raiwidgets\n",
    "datasets\n",
    "transformers\n",
    "responsibleai_text\n",
    "torch\n",
    "```\n",
    "\n",
    "Run the following command to load the spacy pipeline:\n",
    "\n",
    "```bash\n",
    "python -m spacy download en_core_web_sm\n",
    "```"
   ]
  },
  {
   "cell_type": "markdown",
   "id": "40739025",
   "metadata": {},
   "source": [
    "### Load Model and Data\n",
    "*The following section can be skipped. It loads a dataset and trains a model for illustrative purposes.*"
   ]
  },
  {
   "cell_type": "markdown",
   "id": "ac9d0df6",
   "metadata": {},
   "source": [
    "First we import all necessary dependencies"
   ]
  },
  {
   "cell_type": "code",
   "execution_count": 2,
   "id": "75ef9e91",
   "metadata": {},
   "outputs": [],
   "source": [
    "import datasets\n",
    "import pandas as pd\n",
    "from transformers import pipeline"
   ]
  },
  {
   "cell_type": "markdown",
   "id": "f2132e2f",
   "metadata": {},
   "source": [
    "Next we load the SQuAD dataset from huggingface datasets"
   ]
  },
  {
   "cell_type": "code",
   "execution_count": 3,
   "id": "3ae1bf09",
   "metadata": {},
   "outputs": [
    {
     "name": "stderr",
     "output_type": "stream",
     "text": [
      "Downloading readme: 100%|██████████| 7.62k/7.62k [00:00<00:00, 13.5MB/s]\n",
      "Downloading data: 100%|██████████| 14.5M/14.5M [00:00<00:00, 17.5MB/s]\n",
      "Downloading data: 100%|██████████| 1.82M/1.82M [00:00<00:00, 6.57MB/s]\n",
      "Generating train split: 100%|██████████| 87599/87599 [00:00<00:00, 220175.94 examples/s]\n",
      "Generating validation split: 100%|██████████| 10570/10570 [00:00<00:00, 245984.54 examples/s]\n"
     ]
    },
    {
     "data": {
      "text/plain": [
       "Dataset({\n",
       "    features: ['id', 'title', 'context', 'question', 'answers'],\n",
       "    num_rows: 87599\n",
       "})"
      ]
     },
     "execution_count": 3,
     "metadata": {},
     "output_type": "execute_result"
    }
   ],
   "source": [
    "dataset = datasets.load_dataset(\"squad\", split=\"train\")\n",
    "dataset"
   ]
  },
  {
   "cell_type": "markdown",
   "id": "42786ee8",
   "metadata": {},
   "source": [
    "Reformat the dataset to be a pandas dataframe with three columns: context, questions and answers"
   ]
  },
  {
   "cell_type": "code",
   "execution_count": 4,
   "id": "88cd5fed",
   "metadata": {},
   "outputs": [],
   "source": [
    "questions = []\n",
    "context = []\n",
    "answers = []\n",
    "for row in dataset:\n",
    "    context.append(row['context'])\n",
    "    questions.append(row['question'])\n",
    "    answers.append(row['answers']['text'][0])"
   ]
  },
  {
   "cell_type": "code",
   "execution_count": 5,
   "id": "051d4017",
   "metadata": {},
   "outputs": [
    {
     "data": {
      "text/html": [
       "<div>\n",
       "<style scoped>\n",
       "    .dataframe tbody tr th:only-of-type {\n",
       "        vertical-align: middle;\n",
       "    }\n",
       "\n",
       "    .dataframe tbody tr th {\n",
       "        vertical-align: top;\n",
       "    }\n",
       "\n",
       "    .dataframe thead th {\n",
       "        text-align: right;\n",
       "    }\n",
       "</style>\n",
       "<table border=\"1\" class=\"dataframe\">\n",
       "  <thead>\n",
       "    <tr style=\"text-align: right;\">\n",
       "      <th></th>\n",
       "      <th>context</th>\n",
       "      <th>questions</th>\n",
       "      <th>answers</th>\n",
       "    </tr>\n",
       "  </thead>\n",
       "  <tbody>\n",
       "    <tr>\n",
       "      <th>0</th>\n",
       "      <td>The world's first institution of technology or...</td>\n",
       "      <td>What year was the Banská Akadémia founded?</td>\n",
       "      <td>1735</td>\n",
       "    </tr>\n",
       "    <tr>\n",
       "      <th>1</th>\n",
       "      <td>The standard specifies how speed ratings shoul...</td>\n",
       "      <td>What is another speed that can also be reporte...</td>\n",
       "      <td>SOS-based speed</td>\n",
       "    </tr>\n",
       "    <tr>\n",
       "      <th>2</th>\n",
       "      <td>The most impressive and famous of Sumerian bui...</td>\n",
       "      <td>Where were the use of advanced materials and t...</td>\n",
       "      <td>Sumerian temples and palaces</td>\n",
       "    </tr>\n",
       "    <tr>\n",
       "      <th>3</th>\n",
       "      <td>Ann Arbor has a council-manager form of govern...</td>\n",
       "      <td>Who is elected every even numbered year?</td>\n",
       "      <td>mayor</td>\n",
       "    </tr>\n",
       "    <tr>\n",
       "      <th>4</th>\n",
       "      <td>Shortly before his death, when he was already ...</td>\n",
       "      <td>What was the purpose of top secret ICBM commit...</td>\n",
       "      <td>decide on the feasibility of building an ICBM ...</td>\n",
       "    </tr>\n",
       "  </tbody>\n",
       "</table>\n",
       "</div>"
      ],
      "text/plain": [
       "                                             context  \\\n",
       "0  The world's first institution of technology or...   \n",
       "1  The standard specifies how speed ratings shoul...   \n",
       "2  The most impressive and famous of Sumerian bui...   \n",
       "3  Ann Arbor has a council-manager form of govern...   \n",
       "4  Shortly before his death, when he was already ...   \n",
       "\n",
       "                                           questions  \\\n",
       "0         What year was the Banská Akadémia founded?   \n",
       "1  What is another speed that can also be reporte...   \n",
       "2  Where were the use of advanced materials and t...   \n",
       "3           Who is elected every even numbered year?   \n",
       "4  What was the purpose of top secret ICBM commit...   \n",
       "\n",
       "                                             answers  \n",
       "0                                               1735  \n",
       "1                                    SOS-based speed  \n",
       "2                       Sumerian temples and palaces  \n",
       "3                                              mayor  \n",
       "4  decide on the feasibility of building an ICBM ...  "
      ]
     },
     "execution_count": 5,
     "metadata": {},
     "output_type": "execute_result"
    }
   ],
   "source": [
    "data = pd.DataFrame({'context': context, 'questions': questions, 'answers': answers})\n",
    "data = data.sample(frac=1.0, random_state=42).reset_index(drop=True)\n",
    "data.head()"
   ]
  },
  {
   "cell_type": "markdown",
   "id": "8e694f20",
   "metadata": {},
   "source": [
    "Fetch a huggingface question answering model"
   ]
  },
  {
   "cell_type": "code",
   "execution_count": 6,
   "id": "d2236e3d",
   "metadata": {},
   "outputs": [
    {
     "name": "stderr",
     "output_type": "stream",
     "text": [
      "No model was supplied, defaulted to distilbert/distilbert-base-cased-distilled-squad and revision 626af31 (https://huggingface.co/distilbert/distilbert-base-cased-distilled-squad).\n",
      "Using a pipeline without specifying a model name and revision in production is not recommended.\n"
     ]
    }
   ],
   "source": [
    "# load the question-answering model\n",
    "pipeline_model = pipeline('question-answering')\n",
    "test_size = 5\n",
    "\n",
    "train_data = data\n",
    "test_data = data[:test_size]"
   ]
  },
  {
   "cell_type": "markdown",
   "id": "7cf8327b",
   "metadata": {},
   "source": [
    "See an example of the model's predictions"
   ]
  },
  {
   "cell_type": "code",
   "execution_count": 7,
   "id": "ce087699",
   "metadata": {},
   "outputs": [
    {
     "name": "stdout",
     "output_type": "stream",
     "text": [
      "Question  :  What year was the Banská Akadémia founded?\n",
      "Answer    :  1735\n",
      "Predicted :  1735\n",
      "Correct   :  True\n"
     ]
    }
   ],
   "source": [
    "def get_answer(dataset, idx):\n",
    "    model_output = pipeline_model(question=dataset['questions'][idx], \n",
    "                                  context=dataset['context'][idx])\n",
    "    pred = model_output['answer']\n",
    "    return pred\n",
    "\n",
    "def check_answer(dataset, idx):\n",
    "    pred = get_answer(dataset, idx)\n",
    "    print('Question  : ', dataset['questions'][idx])\n",
    "    print('Answer    : ', dataset['answers'][idx])\n",
    "    print('Predicted : ', pred)\n",
    "    print('Correct   : ', pred == dataset['answers'][idx])\n",
    "\n",
    "check_answer(test_data, 0)\n"
   ]
  },
  {
   "cell_type": "markdown",
   "id": "7eec0c5c",
   "metadata": {},
   "source": [
    "### Create Model and Data Insights"
   ]
  },
  {
   "cell_type": "code",
   "execution_count": 8,
   "id": "1dd2b169",
   "metadata": {},
   "outputs": [
    {
     "name": "stdout",
     "output_type": "stream",
     "text": [
      "Dataset download attempt 1 of 4\n"
     ]
    }
   ],
   "source": [
    "from responsibleai_text import RAITextInsights, ModelTask\n",
    "from raiwidgets import ResponsibleAIDashboard"
   ]
  },
  {
   "cell_type": "markdown",
   "id": "c6d97b2c",
   "metadata": {},
   "source": [
    "To use Responsible AI Dashboard, initialize a RAITextInsights object upon which different components can be loaded.\n",
    "\n",
    "RAITextInsights accepts the model, the test dataset, the classes and the task type as its arguments."
   ]
  },
  {
   "cell_type": "code",
   "execution_count": 9,
   "id": "cc8021d3",
   "metadata": {},
   "outputs": [
    {
     "name": "stderr",
     "output_type": "stream",
     "text": [
      "5it [00:00,  5.00it/s]\n"
     ]
    }
   ],
   "source": [
    "rai_insights = RAITextInsights(pipeline_model, test_data, \"answers\",\n",
    "                               task_type=ModelTask.QUESTION_ANSWERING)"
   ]
  },
  {
   "cell_type": "markdown",
   "id": "a0331491",
   "metadata": {},
   "source": [
    "Add the components of the toolbox for model assessment."
   ]
  },
  {
   "cell_type": "code",
   "execution_count": 10,
   "id": "526aca04",
   "metadata": {},
   "outputs": [],
   "source": [
    "rai_insights.error_analysis.add()\n",
    "rai_insights.explainer.add()"
   ]
  },
  {
   "cell_type": "markdown",
   "id": "210aaaf6",
   "metadata": {},
   "source": [
    "Once all the desired components have been loaded, compute insights on the test set."
   ]
  },
  {
   "cell_type": "code",
   "execution_count": 11,
   "id": "901b1863",
   "metadata": {},
   "outputs": [
    {
     "name": "stderr",
     "output_type": "stream",
     "text": [
      "PartitionExplainer explainer: 6it [04:53, 58.60s/it]                       \n",
      "PartitionExplainer explainer: 6it [05:50, 70.17s/it]                       \n"
     ]
    },
    {
     "name": "stdout",
     "output_type": "stream",
     "text": [
      "================================================================================\n",
      "Error Analysis\n",
      "Current Status: Generating error analysis reports.\n",
      "Current Status: Finished generating error analysis reports.\n",
      "Time taken: 0.0 min 0.41903794100016967 sec\n",
      "================================================================================\n"
     ]
    }
   ],
   "source": [
    "rai_insights.compute()"
   ]
  },
  {
   "cell_type": "markdown",
   "id": "3f844646",
   "metadata": {},
   "source": [
    "Finally, visualize and explore the model insights. Use the resulting widget or follow the link to view this in a new tab."
   ]
  },
  {
   "cell_type": "code",
   "execution_count": 12,
   "id": "b63dbfa2",
   "metadata": {},
   "outputs": [
    {
     "name": "stderr",
     "output_type": "stream",
     "text": [
      "[2024-04-05 03:06:51,664] WARNING in __init__: WebSocket transport not available. Install gevent-websocket for improved performance.\n"
     ]
    },
    {
     "name": "stdout",
     "output_type": "stream",
     "text": [
      "ResponsibleAI started at http://localhost:8704\n"
     ]
    },
    {
     "data": {
      "text/plain": [
       "<raiwidgets.responsibleai_dashboard.ResponsibleAIDashboard at 0x7f8d61a22b90>"
      ]
     },
     "execution_count": 12,
     "metadata": {},
     "output_type": "execute_result"
    },
    {
     "name": "stderr",
     "output_type": "stream",
     "text": [
      "http://127.0.0.1:8704 is not an accepted origin. (further occurrences of this error will be logged with level INFO)\n"
     ]
    }
   ],
   "source": [
    "ResponsibleAIDashboard(rai_insights)"
   ]
  }
 ],
 "metadata": {
  "kernelspec": {
   "display_name": "Python 3",
   "language": "python",
   "name": "python3"
  },
  "language_info": {
   "codemirror_mode": {
    "name": "ipython",
    "version": 3
   },
   "file_extension": ".py",
   "mimetype": "text/x-python",
   "name": "python",
   "nbconvert_exporter": "python",
   "pygments_lexer": "ipython3",
   "version": "3.10.13"
  }
 },
 "nbformat": 4,
 "nbformat_minor": 5
}
